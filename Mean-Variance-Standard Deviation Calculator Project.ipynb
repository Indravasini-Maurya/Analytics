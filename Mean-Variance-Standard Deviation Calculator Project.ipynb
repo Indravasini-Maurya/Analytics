{
 "cells": [
  {
   "cell_type": "markdown",
   "id": "0c91567b",
   "metadata": {},
   "source": [
    "Create a function named calculate() in mean_var_std.py that uses Numpy to output the mean, variance, standard deviation, max, min, and sum of the rows, columns, and elements in a 3 x 3 matrix.\n",
    "\n",
    "The input of the function should be a list containing 9 digits. The function should convert the list into a 3 x 3 Numpy array, and then return a dictionary containing the mean, variance, standard deviation, max, min, and sum along both axes and for the flattened matrix.\n",
    "\n",
    "The returned dictionary should follow this format:\n",
    "\n",
    "{\n",
    "  'mean': [axis1, axis2, flattened],\n",
    "  'variance': [axis1, axis2, flattened],\n",
    "  'standard deviation': [axis1, axis2, flattened],\n",
    "  'max': [axis1, axis2, flattened],\n",
    "  'min': [axis1, axis2, flattened],\n",
    "  'sum': [axis1, axis2, flattened]\n",
    "}\n",
    "If a list containing less than 9 elements is passed into the function, it should raise a ValueError exception with the message: \"List must contain nine numbers.\" The values in the returned dictionary should be lists and not Numpy arrays.\n",
    "\n",
    "For example, calculate([0,1,2,3,4,5,6,7,8]) should return:\n",
    "\n",
    "{\n",
    "  'mean': [[3.0, 4.0, 5.0], [1.0, 4.0, 7.0], 4.0],\n",
    "  'variance': [[6.0, 6.0, 6.0], [0.6666666666666666, 0.6666666666666666, 0.6666666666666666], 6.666666666666667],\n",
    "  'standard deviation': [[2.449489742783178, 2.449489742783178, 2.449489742783178], [0.816496580927726, 0.816496580927726, 0.816496580927726], 2.581988897471611],\n",
    "  'max': [[6, 7, 8], [2, 5, 8], 8],\n",
    "  'min': [[0, 1, 2], [0, 3, 6], 0],\n",
    "  'sum': [[9, 12, 15], [3, 12, 21], 36]\n",
    "}"
   ]
  },
  {
   "cell_type": "code",
   "execution_count": 1,
   "id": "d3e26da5",
   "metadata": {},
   "outputs": [
    {
     "name": "stdout",
     "output_type": "stream",
     "text": [
      "[5 6 7 8 4 3 3 2 1]\n"
     ]
    },
    {
     "data": {
      "text/plain": [
       "{'mean': [[5.333333333333333, 4.0, 3.6666666666666665],\n",
       "  [6.0, 5.0, 2.0],\n",
       "  4.333333333333333],\n",
       " 'variance': [[4.222222222222222, 2.6666666666666665, 6.222222222222222],\n",
       "  [0.6666666666666666, 4.666666666666667, 0.6666666666666666],\n",
       "  4.888888888888888],\n",
       " 'standard deviation': [[2.0548046676563256,\n",
       "   1.632993161855452,\n",
       "   2.494438257849294],\n",
       "  [0.816496580927726, 2.160246899469287, 0.816496580927726],\n",
       "  2.2110831935702664],\n",
       " 'max': [[8, 6, 7], [7, 8, 3], 8],\n",
       " 'min': [[3, 2, 1], [5, 3, 1], 1],\n",
       " 'sum': [[16, 12, 11], [18, 15, 6], 39]}"
      ]
     },
     "execution_count": 1,
     "metadata": {},
     "output_type": "execute_result"
    }
   ],
   "source": [
    "import numpy as np\n",
    "def calculate(list):\n",
    "    list = [5, 6, 7, 8, 4, 3, 3, 2, 1]\n",
    "    if len(list) != 9:\n",
    "        raise ValueError(\"List must contain nine numbers.\")\n",
    "    \n",
    "    ls = np.array(list)\n",
    "    print(ls)\n",
    "    mean_cols = [ls[[0, 3, 6]].mean(), ls[[1, 4, 7]].mean(), ls[[2, 5, 8]].mean()]\n",
    "    mean_rows = [ls[[0, 1, 2]].mean(), ls[[3, 4, 5]].mean(), ls[[6, 7, 8]].mean()]\n",
    "\n",
    "    var_cols = [ls[[0, 3, 6]].var(), ls[[1, 4, 7]].var(), ls[[2, 5, 8]].var()]\n",
    "    var_rows = [ls[[0, 1, 2]].var(), ls[[3, 4, 5]].var(), ls[[6, 7, 8]].var()]\n",
    "\n",
    "    std_cols = [ls[[0, 3, 6]].std(), ls[[1, 4, 7]].std(), ls[[2, 5, 8]].std()]\n",
    "    std_rows = [ls[[0, 1, 2]].std(), ls[[3, 4, 5]].std(), ls[[6, 7, 8]].std()]\n",
    "\n",
    "    max_cols = [ls[[0, 3, 6]].max(), ls[[1, 4, 7]].max(), ls[[2, 5, 8]].max()]\n",
    "    max_rows = [ls[[0, 1, 2]].max(), ls[[3, 4, 5]].max(), ls[[6, 7, 8]].max()]\n",
    "\n",
    "    min_cols = [ls[[0, 3, 6]].min(), ls[[1, 4, 7]].min(), ls[[2, 5, 8]].min()]\n",
    "    min_rows = [ls[[0, 1, 2]].min(), ls[[3, 4, 5]].min(), ls[[6, 7, 8]].min()]\n",
    "\n",
    "    sum_cols = [ls[[0, 3, 6]].sum(), ls[[1, 4, 7]].sum(), ls[[2, 5, 8]].sum()]\n",
    "    sum_rows = [ls[[0, 1, 2]].sum(), ls[[3, 4, 5]].sum(), ls[[6, 7, 8]].sum()]\n",
    "\n",
    "\n",
    "    return {\n",
    "    'mean': [mean_cols, mean_rows, ls.mean()],\n",
    "    'variance': [var_cols, var_rows, ls.var()],\n",
    "    'standard deviation': [std_cols, std_rows, ls.std()],\n",
    "    'max': [max_cols, max_rows, ls.max()],\n",
    "    'min': [min_cols, min_rows, ls.min()],\n",
    "    'sum': [sum_cols, sum_rows, ls.sum()]\n",
    "    }\n",
    "\n",
    "calculate(list)\n",
    "    \n"
   ]
  },
  {
   "cell_type": "code",
   "execution_count": 2,
   "id": "921b9372",
   "metadata": {},
   "outputs": [
    {
     "name": "stdout",
     "output_type": "stream",
     "text": [
      "[[2 3 4]\n",
      " [5 6 7]\n",
      " [8 1 2]]\n"
     ]
    },
    {
     "data": {
      "text/plain": [
       "{'mean': [[5.0, 3.3333333333333335, 4.333333333333333],\n",
       "  [3.0, 6.0, 3.6666666666666665],\n",
       "  4.222222222222222],\n",
       " 'variance': [[6.0, 4.222222222222222, 4.222222222222222],\n",
       "  [0.6666666666666666, 0.6666666666666666, 9.555555555555557],\n",
       "  5.283950617283952],\n",
       " 'standard deviation': [[2.449489742783178,\n",
       "   2.0548046676563256,\n",
       "   2.0548046676563256],\n",
       "  [0.816496580927726, 0.816496580927726, 3.091206165165235],\n",
       "  2.298684540619689],\n",
       " 'max': [[8, 6, 7], [4, 7, 8], 8],\n",
       " 'min': [[2, 1, 2], [2, 5, 1], 1],\n",
       " 'sum': [[15, 10, 13], [9, 18, 11], 38]}"
      ]
     },
     "execution_count": 2,
     "metadata": {},
     "output_type": "execute_result"
    }
   ],
   "source": [
    "def calculate(list):\n",
    "    list = [2, 3, 4, 5, 6, 7, 8, 1, 2]\n",
    "    if (len(list) != 9):\n",
    "        raise ValueError(\"List must contain nine numbers.\")    \n",
    "        \n",
    "    ls = np.array(list).reshape(3, 3)\n",
    "    print(ls)\n",
    "    \n",
    "    mean = [ls.mean(axis=0).tolist(), ls.mean(axis=1).tolist(), ls.mean().tolist()]\n",
    "    variance = [ls.var(axis=0).tolist(), ls.var(axis=1).tolist(), ls.var().tolist()]\n",
    "    std_dev = [ls.std(axis=0).tolist(), ls.std(axis=1).tolist(), ls.std().tolist()]\n",
    "    max_ = [ls.max(axis=0).tolist(), ls.max(axis=1).tolist(), ls.max().tolist()]\n",
    "    min_ = [ls.min(axis=0).tolist(), ls.min(axis=1).tolist(), ls.min().tolist()]\n",
    "    sum_ = [ls.sum(axis=0).tolist(), ls.sum(axis=1).tolist(), ls.sum().tolist()]\n",
    "\n",
    "    return { \n",
    "    'mean': mean,\n",
    "    \n",
    "    'variance': variance,\n",
    "    \n",
    "    'standard deviation': std_dev,\n",
    "    \n",
    "    'max': max_,\n",
    "    \n",
    "    'min': min_,\n",
    "    \n",
    "    'sum': sum_\n",
    "\n",
    "    }  \n",
    "calculate(list)"
   ]
  },
  {
   "cell_type": "code",
   "execution_count": 2,
   "id": "fd4070f2",
   "metadata": {},
   "outputs": [
    {
     "name": "stdout",
     "output_type": "stream",
     "text": [
      "[0, 1, 2, 3, 4, 5, 6, 7, 8]\n"
     ]
    }
   ],
   "source": [
    "list = [0, 1, 2, 3, 4, 5, 6, 7, 8]\n",
    "print(list)"
   ]
  },
  {
   "cell_type": "code",
   "execution_count": 3,
   "id": "f71a2593",
   "metadata": {},
   "outputs": [
    {
     "name": "stdout",
     "output_type": "stream",
     "text": [
      "['__add__', '__class__', '__class_getitem__', '__contains__', '__delattr__', '__delitem__', '__dir__', '__doc__', '__eq__', '__format__', '__ge__', '__getattribute__', '__getitem__', '__gt__', '__hash__', '__iadd__', '__imul__', '__init__', '__init_subclass__', '__iter__', '__le__', '__len__', '__lt__', '__mul__', '__ne__', '__new__', '__reduce__', '__reduce_ex__', '__repr__', '__reversed__', '__rmul__', '__setattr__', '__setitem__', '__sizeof__', '__str__', '__subclasshook__', 'append', 'clear', 'copy', 'count', 'extend', 'index', 'insert', 'pop', 'remove', 'reverse', 'sort']\n"
     ]
    }
   ],
   "source": [
    "print(dir(list))"
   ]
  },
  {
   "cell_type": "code",
   "execution_count": 4,
   "id": "8a4f846b",
   "metadata": {},
   "outputs": [
    {
     "name": "stdout",
     "output_type": "stream",
     "text": [
      "[0 1 2 3 4 5 6 7 8]\n"
     ]
    },
    {
     "data": {
      "text/plain": [
       "{'mean': [[3.0, 4.0, 5.0], [1.0, 4.0, 7.0], 4.0],\n",
       " 'variance': [[6.0, 6.0, 6.0],\n",
       "  [0.6666666666666666, 0.6666666666666666, 0.6666666666666666],\n",
       "  6.666666666666667],\n",
       " 'standard deviation': [[2.449489742783178,\n",
       "   2.449489742783178,\n",
       "   2.449489742783178],\n",
       "  [0.816496580927726, 0.816496580927726, 0.816496580927726],\n",
       "  2.581988897471611],\n",
       " 'max': [[6, 7, 8], [2, 5, 8], 8],\n",
       " 'min': [[0, 1, 2], [0, 3, 6], 0],\n",
       " 'sum': [[9, 12, 15], [3, 12, 21], 36]}"
      ]
     },
     "execution_count": 4,
     "metadata": {},
     "output_type": "execute_result"
    }
   ],
   "source": [
    "import numpy as np\n",
    "def calculate(list):\n",
    "    list = [0, 1, 2, 3, 4, 5, 6, 7, 8]\n",
    "    \n",
    "    if len(list) != 9:\n",
    "        raise ValueError('List must contain nine numbers.')\n",
    "    \n",
    "    ls = np.array(list)\n",
    "    print(ls)\n",
    "    mean_cols = [ls[[0, 3, 6]].mean(), ls[[1, 4, 7]].mean(), ls[[2, 5, 8]].mean()]\n",
    "    mean_rows = [ls[[0, 1, 2]].mean(), ls[[3, 4, 5]].mean(), ls[[6, 7, 8]].mean()]\n",
    "\n",
    "    var_cols = [ls[[0, 3, 6]].var(), ls[[1, 4, 7]].var(), ls[[2, 5, 8]].var()]\n",
    "    var_rows = [ls[[0, 1, 2]].var(), ls[[3, 4, 5]].var(), ls[[6, 7, 8]].var()]\n",
    "\n",
    "    std_cols = [ls[[0, 3, 6]].std(), ls[[1, 4, 7]].std(), ls[[2, 5, 8]].std()]\n",
    "    std_rows = [ls[[0, 1, 2]].std(), ls[[3, 4, 5]].std(), ls[[6, 7, 8]].std()]\n",
    "\n",
    "    max_cols = [ls[[0, 3, 6]].max(), ls[[1, 4, 7]].max(), ls[[2, 5, 8]].max()]\n",
    "    max_rows = [ls[[0, 1, 2]].max(), ls[[3, 4, 5]].max(), ls[[6, 7, 8]].max()]\n",
    "\n",
    "    min_cols = [ls[[0, 3, 6]].min(), ls[[1, 4, 7]].min(), ls[[2, 5, 8]].min()]\n",
    "    min_rows = [ls[[0, 1, 2]].min(), ls[[3, 4, 5]].min(), ls[[6, 7, 8]].min()]\n",
    "\n",
    "    sum_cols = [ls[[0, 3, 6]].sum(), ls[[1, 4, 7]].sum(), ls[[2, 5, 8]].sum()]\n",
    "    sum_rows = [ls[[0, 1, 2]].sum(), ls[[3, 4, 5]].sum(), ls[[6, 7, 8]].sum()]\n",
    "\n",
    "\n",
    "    return {\n",
    "    'mean': [mean_cols, mean_rows, ls.mean()],\n",
    "    'variance': [var_cols, var_rows, ls.var()],\n",
    "    'standard deviation': [std_cols, std_rows, ls.std()],\n",
    "    'max': [max_cols, max_rows, ls.max()],\n",
    "    'min': [min_cols, min_rows, ls.min()],\n",
    "    'sum': [sum_cols, sum_rows, ls.sum()]\n",
    "    }\n",
    "\n",
    "calculate(list)\n",
    "\n",
    "    "
   ]
  },
  {
   "cell_type": "code",
   "execution_count": null,
   "id": "8dd19a2b",
   "metadata": {},
   "outputs": [],
   "source": []
  }
 ],
 "metadata": {
  "hide_input": false,
  "kernelspec": {
   "display_name": "Python 3 (ipykernel)",
   "language": "python",
   "name": "python3"
  },
  "language_info": {
   "codemirror_mode": {
    "name": "ipython",
    "version": 3
   },
   "file_extension": ".py",
   "mimetype": "text/x-python",
   "name": "python",
   "nbconvert_exporter": "python",
   "pygments_lexer": "ipython3",
   "version": "3.9.7"
  }
 },
 "nbformat": 4,
 "nbformat_minor": 5
}
